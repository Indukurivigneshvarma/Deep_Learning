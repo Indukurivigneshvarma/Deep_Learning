{
 "cells": [
  {
   "cell_type": "code",
   "execution_count": 2,
   "id": "0a1be912",
   "metadata": {},
   "outputs": [],
   "source": [
    "from sklearn.datasets import fetch_openml\n",
    "from sklearn.model_selection import train_test_split\n",
    "from sklearn.preprocessing import OneHotEncoder"
   ]
  },
  {
   "cell_type": "code",
   "execution_count": 3,
   "id": "d7decb7c",
   "metadata": {},
   "outputs": [],
   "source": [
    "\n",
    "mnist = fetch_openml('mnist_784', version=1)"
   ]
  },
  {
   "cell_type": "code",
   "execution_count": 4,
   "id": "a5cb3782",
   "metadata": {},
   "outputs": [],
   "source": [
    "X = mnist.data / 255.0  \n",
    "y = mnist.target.astype(int)"
   ]
  },
  {
   "cell_type": "code",
   "execution_count": 7,
   "id": "24f859a5",
   "metadata": {},
   "outputs": [],
   "source": [
    "encoder = OneHotEncoder()\n",
    "y_onehot = encoder.fit_transform(y.values.reshape(-1,1))\n"
   ]
  },
  {
   "cell_type": "code",
   "execution_count": 8,
   "id": "0ea09344",
   "metadata": {},
   "outputs": [],
   "source": [
    "\n",
    "X_train, X_test, y_train, y_test = train_test_split(X, y_onehot, test_size=0.2, random_state=42)"
   ]
  },
  {
   "cell_type": "code",
   "execution_count": 9,
   "id": "575b1755",
   "metadata": {},
   "outputs": [],
   "source": [
    "import numpy as np\n",
    "\n",
    "input_size = 784\n",
    "hidden1_size = 128\n",
    "hidden2_size = 64\n",
    "output_size = 10\n",
    "\n",
    "def xavier_init(size_in, size_out):\n",
    "    return np.random.randn(size_in, size_out) * np.sqrt(2 / (size_in + size_out))\n",
    "\n",
    "W1 = xavier_init(input_size, hidden1_size)\n",
    "b1 = np.zeros((1, hidden1_size))\n",
    "\n",
    "W2 = xavier_init(hidden1_size, hidden2_size)\n",
    "b2 = np.zeros((1, hidden2_size))\n",
    "\n",
    "W3 = xavier_init(hidden2_size, output_size)\n",
    "b3 = np.zeros((1, output_size))\n"
   ]
  },
  {
   "cell_type": "code",
   "execution_count": 10,
   "id": "0c804732",
   "metadata": {},
   "outputs": [],
   "source": [
    "def relu(x):\n",
    "    return np.maximum(0, x)\n",
    "\n",
    "def relu_derivative(x):\n",
    "    return np.where(x > 0, 1, 0)\n",
    "\n",
    "def softmax(x):\n",
    "    exp_x = np.exp(x - np.max(x, axis=1, keepdims=True))\n",
    "    return exp_x / np.sum(exp_x, axis=1, keepdims=True)\n"
   ]
  },
  {
   "cell_type": "code",
   "execution_count": 13,
   "id": "d6f5fc03",
   "metadata": {},
   "outputs": [],
   "source": [
    "import numpy as np\n",
    "from tensorflow.keras.datasets import mnist\n",
    "from tensorflow.keras.utils import to_categorical\n",
    "\n",
    "# -----------------------------\n",
    "# 1️⃣ Load MNIST dataset\n",
    "# -----------------------------\n",
    "(X_train, y_train), (X_test, y_test) = mnist.load_data()\n",
    "\n",
    "# Flatten images: 28x28 → 784\n",
    "X_train = X_train.reshape(-1, 28*28) / 255.0\n",
    "X_test = X_test.reshape(-1, 28*28) / 255.0\n",
    "\n",
    "# One-hot encode labels\n",
    "y_train = to_categorical(y_train, 10)\n",
    "y_test = to_categorical(y_test, 10)"
   ]
  },
  {
   "cell_type": "code",
   "execution_count": 14,
   "id": "1a49b36a",
   "metadata": {},
   "outputs": [
    {
     "name": "stdout",
     "output_type": "stream",
     "text": [
      "Shapes:\n",
      "X_train: (60000, 784) y_train: (60000, 10)\n",
      "X_test: (10000, 784) y_test: (10000, 10)\n"
     ]
    }
   ],
   "source": [
    "print(\"Shapes:\")\n",
    "print(\"X_train:\", X_train.shape, \"y_train:\", y_train.shape)\n",
    "print(\"X_test:\", X_test.shape, \"y_test:\", y_test.shape)\n",
    "\n",
    "# -----------------------------\n",
    "# 2️⃣ Network Architecture\n",
    "# -----------------------------\n",
    "input_size = 784\n",
    "hidden1_size = 256\n",
    "hidden2_size = 128\n",
    "hidden3_size = 64\n",
    "output_size = 10"
   ]
  },
  {
   "cell_type": "code",
   "execution_count": 15,
   "id": "21519a73",
   "metadata": {},
   "outputs": [],
   "source": [
    "def xavier_init(size_in, size_out):\n",
    "    return np.random.randn(size_in, size_out) * np.sqrt(2 / (size_in + size_out))\n",
    "\n",
    "W1 = xavier_init(input_size, hidden1_size)\n",
    "b1 = np.zeros((1, hidden1_size))\n",
    "\n",
    "W2 = xavier_init(hidden1_size, hidden2_size)\n",
    "b2 = np.zeros((1, hidden2_size))\n",
    "\n",
    "W3 = xavier_init(hidden2_size, hidden3_size)\n",
    "b3 = np.zeros((1, hidden3_size))\n",
    "\n",
    "W4 = xavier_init(hidden3_size, output_size)\n",
    "b4 = np.zeros((1, output_size))"
   ]
  },
  {
   "cell_type": "code",
   "execution_count": 17,
   "id": "b28cc9cb",
   "metadata": {},
   "outputs": [],
   "source": [
    "\n",
    "def relu(x):\n",
    "    return np.maximum(0, x)\n",
    "\n",
    "def relu_derivative(x):\n",
    "    return np.where(x > 0, 1, 0)\n",
    "\n",
    "def softmax(x):\n",
    "    exp_x = np.exp(x - np.max(x, axis=1, keepdims=True))\n",
    "    return exp_x / np.sum(exp_x, axis=1, keepdims=True)\n",
    "\n",
    "lr = 0.01\n",
    "epochs = 10 \n",
    "batch_size = 64"
   ]
  },
  {
   "cell_type": "code",
   "execution_count": 18,
   "id": "457eacad",
   "metadata": {},
   "outputs": [
    {
     "name": "stdout",
     "output_type": "stream",
     "text": [
      "Epoch 1/10, Loss: 0.3395\n",
      "Epoch 2/10, Loss: 0.3963\n",
      "Epoch 3/10, Loss: 0.1637\n",
      "Epoch 4/10, Loss: 0.1690\n",
      "Epoch 5/10, Loss: 0.1300\n",
      "Epoch 6/10, Loss: 0.0714\n",
      "Epoch 7/10, Loss: 0.0422\n",
      "Epoch 8/10, Loss: 0.1119\n",
      "Epoch 9/10, Loss: 0.3442\n",
      "Epoch 10/10, Loss: 0.1285\n"
     ]
    }
   ],
   "source": [
    "for epoch in range(epochs):\n",
    "    perm = np.random.permutation(X_train.shape[0])\n",
    "    X_train_shuffled = X_train[perm]\n",
    "    y_train_shuffled = y_train[perm]\n",
    "\n",
    "    for i in range(0, X_train.shape[0], batch_size):\n",
    "        X_batch = X_train_shuffled[i:i+batch_size]\n",
    "        y_batch = y_train_shuffled[i:i+batch_size]\n",
    "\n",
    "        z1 = np.dot(X_batch, W1) + b1\n",
    "        a1 = relu(z1)\n",
    "\n",
    "        z2 = np.dot(a1, W2) + b2\n",
    "        a2 = relu(z2)\n",
    "\n",
    "        z3 = np.dot(a2, W3) + b3\n",
    "        a3 = relu(z3)\n",
    "\n",
    "        z4 = np.dot(a3, W4) + b4\n",
    "        y_pred = softmax(z4)\n",
    "\n",
    "        loss = -np.mean(np.sum(y_batch * np.log(y_pred + 1e-8), axis=1))\n",
    "\n",
    "        dz4 = (y_pred - y_batch) / batch_size\n",
    "        dW4 = np.dot(a3.T, dz4)\n",
    "        db4 = np.sum(dz4, axis=0, keepdims=True)\n",
    "\n",
    "        da3 = np.dot(dz4, W4.T)\n",
    "        dz3 = da3 * relu_derivative(a3)\n",
    "        dW3 = np.dot(a2.T, dz3)\n",
    "        db3 = np.sum(dz3, axis=0, keepdims=True)\n",
    "\n",
    "        da2 = np.dot(dz3, W3.T)\n",
    "        dz2 = da2 * relu_derivative(a2)\n",
    "        dW2 = np.dot(a1.T, dz2)\n",
    "        db2 = np.sum(dz2, axis=0, keepdims=True)\n",
    "\n",
    "        da1 = np.dot(dz2, W2.T)\n",
    "        dz1 = da1 * relu_derivative(a1)\n",
    "        dW1 = np.dot(X_batch.T, dz1)\n",
    "        db1 = np.sum(dz1, axis=0, keepdims=True)\n",
    "\n",
    "        W4 -= lr * dW4\n",
    "        b4 -= lr * db4\n",
    "        W3 -= lr * dW3\n",
    "        b3 -= lr * db3\n",
    "        W2 -= lr * dW2\n",
    "        b2 -= lr * db2\n",
    "        W1 -= lr * dW1\n",
    "        b1 -= lr * db1\n",
    "\n",
    "    print(f\"Epoch {epoch+1}/{epochs}, Loss: {loss:.4f}\")\n"
   ]
  },
  {
   "cell_type": "code",
   "execution_count": 19,
   "id": "37297175",
   "metadata": {},
   "outputs": [
    {
     "name": "stdout",
     "output_type": "stream",
     "text": [
      "Test Accuracy: 0.9612\n"
     ]
    }
   ],
   "source": [
    "a1 = relu(np.dot(X_test, W1) + b1)\n",
    "a2 = relu(np.dot(a1, W2) + b2)\n",
    "a3 = relu(np.dot(a2, W3) + b3)\n",
    "y_test_pred = softmax(np.dot(a3, W4) + b4)\n",
    "\n",
    "y_test_labels = np.argmax(y_test, axis=1)\n",
    "y_pred_labels = np.argmax(y_test_pred, axis=1)\n",
    "\n",
    "accuracy = np.mean(y_test_labels == y_pred_labels)\n",
    "print(\"Test Accuracy:\", accuracy)"
   ]
  },
  {
   "cell_type": "code",
   "execution_count": null,
   "id": "2b81cc1e",
   "metadata": {},
   "outputs": [],
   "source": []
  }
 ],
 "metadata": {
  "kernelspec": {
   "display_name": "python_course",
   "language": "python",
   "name": "python3"
  },
  "language_info": {
   "codemirror_mode": {
    "name": "ipython",
    "version": 3
   },
   "file_extension": ".py",
   "mimetype": "text/x-python",
   "name": "python",
   "nbconvert_exporter": "python",
   "pygments_lexer": "ipython3",
   "version": "3.13.7"
  }
 },
 "nbformat": 4,
 "nbformat_minor": 5
}
