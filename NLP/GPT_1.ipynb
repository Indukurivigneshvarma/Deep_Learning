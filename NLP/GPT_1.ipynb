{
  "nbformat": 4,
  "nbformat_minor": 0,
  "metadata": {
    "colab": {
      "provenance": [],
      "gpuType": "T4",
      "authorship_tag": "ABX9TyNS023UAYBFdWt592WKwcX6",
      "include_colab_link": true
    },
    "kernelspec": {
      "name": "python3",
      "display_name": "Python 3"
    },
    "language_info": {
      "name": "python"
    },
    "accelerator": "GPU"
  },
  "cells": [
    {
      "cell_type": "markdown",
      "metadata": {
        "id": "view-in-github",
        "colab_type": "text"
      },
      "source": [
        "<a href=\"https://colab.research.google.com/github/Indukurivigneshvarma/Deep_Learning/blob/main/NLP/GPT_1.ipynb\" target=\"_parent\"><img src=\"https://colab.research.google.com/assets/colab-badge.svg\" alt=\"Open In Colab\"/></a>"
      ]
    },
    {
      "cell_type": "code",
      "execution_count": 2,
      "metadata": {
        "id": "tYaiyNjnQBb4"
      },
      "outputs": [],
      "source": [
        "!pip install transformers datasets --quiet\n",
        "\n",
        "from transformers import GPT2Tokenizer, GPT2LMHeadModel, Trainer, TrainingArguments\n",
        "from datasets import load_dataset\n",
        "import torch"
      ]
    },
    {
      "cell_type": "code",
      "source": [
        "dataset = load_dataset(\"imdb\", split=\"train[:1%]\")\n",
        "dataset = dataset.train_test_split(test_size=0.1)\n",
        "\n",
        "!jupyter nbconvert --to notebook --ClearOutputPreprocessor.enabled=True \\\n",
        "    --ClearMetadataPreprocessor.enabled=True \\\n",
        "    --output GPT_1_clean_final.ipynb GPT_1_clean.ipynb\n"
      ],
      "metadata": {
        "colab": {
          "base_uri": "https://localhost:8080/"
        },
        "id": "t0YJY2MtQNEf",
        "outputId": "bfab741f-527a-43cf-c0c1-2ecefd9c770b"
      },
      "execution_count": 18,
      "outputs": [
        {
          "output_type": "stream",
          "name": "stdout",
          "text": [
            "[NbConvertApp] Converting notebook GPT_1_clean.ipynb to notebook\n",
            "[NbConvertApp] Writing 4295 bytes to GPT_1_clean_final.ipynb\n"
          ]
        }
      ]
    },
    {
      "cell_type": "code",
      "source": [
        "tokenizer = GPT2Tokenizer.from_pretrained(\"gpt2\")\n",
        "tokenizer.pad_token = tokenizer.eos_token\n",
        "\n",
        "!jupyter nbconvert --to notebook --ClearOutputPreprocessor.enabled=True \\\n",
        "    --ClearMetadataPreprocessor.enabled=True \\\n",
        "    --output GPT_1_clean_final.ipynb GPT_1_clean.ipynb\n"
      ],
      "metadata": {
        "colab": {
          "base_uri": "https://localhost:8080/"
        },
        "id": "dTdrq18oaTip",
        "outputId": "a5a923b8-b399-443a-b471-0014494cd9c7"
      },
      "execution_count": 19,
      "outputs": [
        {
          "output_type": "stream",
          "name": "stdout",
          "text": [
            "[NbConvertApp] Converting notebook GPT_1_clean.ipynb to notebook\n",
            "[NbConvertApp] Writing 4295 bytes to GPT_1_clean_final.ipynb\n"
          ]
        }
      ]
    },
    {
      "cell_type": "code",
      "source": [
        "def tokenize_function(examples):\n",
        "    outputs = tokenizer(\n",
        "        examples[\"text\"],\n",
        "        truncation=True,\n",
        "        padding=\"max_length\",\n",
        "        max_length=128,\n",
        "    )\n",
        "    outputs[\"labels\"] = outputs[\"input_ids\"].copy()\n",
        "    return outputs\n",
        "\n",
        "tokenized_datasets = dataset.map(tokenize_function, batched=True, remove_columns=[\"text\"])\n",
        "\n",
        "!jupyter nbconvert --to notebook --ClearOutputPreprocessor.enabled=True \\\n",
        "    --ClearMetadataPreprocessor.enabled=True \\\n",
        "    --output GPT_1_clean_final.ipynb GPT_1_clean.ipynb\n"
      ],
      "metadata": {
        "colab": {
          "base_uri": "https://localhost:8080/"
        },
        "id": "wVZCNHOyQYQy",
        "outputId": "24f9df03-1640-4cc7-85af-3a6d57704fd4"
      },
      "execution_count": 27,
      "outputs": [
        {
          "output_type": "stream",
          "name": "stdout",
          "text": [
            "[NbConvertApp] Converting notebook GPT_1_clean.ipynb to notebook\n",
            "[NbConvertApp] Writing 4295 bytes to GPT_1_clean_final.ipynb\n"
          ]
        }
      ]
    },
    {
      "cell_type": "code",
      "source": [
        "model = GPT2LMHeadModel.from_pretrained(\"gpt2\")\n",
        "model.resize_token_embeddings(len(tokenizer))\n",
        "\n",
        "!jupyter nbconvert --to notebook --ClearOutputPreprocessor.enabled=True \\\n",
        "    --ClearMetadataPreprocessor.enabled=True \\\n",
        "    --output GPT_1_clean_final.ipynb GPT_1_clean.ipynb\n"
      ],
      "metadata": {
        "colab": {
          "base_uri": "https://localhost:8080/"
        },
        "id": "8XS0l_fxQceB",
        "outputId": "325fd3e7-15da-483a-eaa3-8fc2c2da528f"
      },
      "execution_count": 21,
      "outputs": [
        {
          "output_type": "stream",
          "name": "stdout",
          "text": [
            "[NbConvertApp] Converting notebook GPT_1_clean.ipynb to notebook\n",
            "[NbConvertApp] Writing 4295 bytes to GPT_1_clean_final.ipynb\n"
          ]
        }
      ]
    },
    {
      "cell_type": "code",
      "source": [
        "training_args = TrainingArguments(\n",
        "    output_dir=\"./gpt2-finetuned-imdb\",\n",
        "    overwrite_output_dir=True,\n",
        "    num_train_epochs=1,\n",
        "    per_device_train_batch_size=2,\n",
        "    per_device_eval_batch_size=2,\n",
        "    eval_strategy=\"epoch\",\n",
        "    save_strategy=\"epoch\",\n",
        "    logging_dir=\"./logs\",\n",
        "    logging_steps=10,\n",
        "    report_to=[]\n",
        ")"
      ],
      "metadata": {
        "id": "bJyWmQZzQjSe"
      },
      "execution_count": 22,
      "outputs": []
    },
    {
      "cell_type": "code",
      "source": [
        "trainer = Trainer(\n",
        "    model=model,\n",
        "    args=training_args,\n",
        "    train_dataset=tokenized_datasets[\"train\"],\n",
        "    eval_dataset=tokenized_datasets[\"test\"]\n",
        ")"
      ],
      "metadata": {
        "id": "M1k5LJusQp1S"
      },
      "execution_count": 23,
      "outputs": []
    },
    {
      "cell_type": "code",
      "source": [
        "trainer.train()\n",
        "\n",
        "!jupyter nbconvert --to notebook --ClearOutputPreprocessor.enabled=True \\\n",
        "    --ClearMetadataPreprocessor.enabled=True \\\n",
        "    --output GPT_1_clean_final.ipynb GPT_1_clean.ipynb\n"
      ],
      "metadata": {
        "colab": {
          "base_uri": "https://localhost:8080/",
          "height": 141
        },
        "id": "QB6m3lb7RFYy",
        "outputId": "4fb8ac25-6434-475a-e3ab-12a39facc5f7"
      },
      "execution_count": 24,
      "outputs": [
        {
          "output_type": "display_data",
          "data": {
            "text/plain": [
              "<IPython.core.display.HTML object>"
            ],
            "text/html": [
              "\n",
              "    <div>\n",
              "      \n",
              "      <progress value='113' max='113' style='width:300px; height:20px; vertical-align: middle;'></progress>\n",
              "      [113/113 00:27, Epoch 1/1]\n",
              "    </div>\n",
              "    <table border=\"1\" class=\"dataframe\">\n",
              "  <thead>\n",
              " <tr style=\"text-align: left;\">\n",
              "      <th>Epoch</th>\n",
              "      <th>Training Loss</th>\n",
              "      <th>Validation Loss</th>\n",
              "    </tr>\n",
              "  </thead>\n",
              "  <tbody>\n",
              "    <tr>\n",
              "      <td>1</td>\n",
              "      <td>3.504300</td>\n",
              "      <td>3.715730</td>\n",
              "    </tr>\n",
              "  </tbody>\n",
              "</table><p>"
            ]
          },
          "metadata": {}
        },
        {
          "output_type": "stream",
          "name": "stdout",
          "text": [
            "[NbConvertApp] Converting notebook GPT_1_clean.ipynb to notebook\n",
            "[NbConvertApp] Writing 4295 bytes to GPT_1_clean_final.ipynb\n"
          ]
        }
      ]
    },
    {
      "cell_type": "code",
      "source": [
        "prompt = \"the movie was great with\"\n",
        "inputs = tokenizer(prompt, return_tensors=\"pt\").to(model.device)\n",
        "outputs = model.generate(\n",
        "    **inputs,\n",
        "    max_length=80,\n",
        "    num_return_sequences=3,\n",
        "    temperature=0.9,\n",
        "    top_k=50,\n",
        "    top_p=0.95,\n",
        "    do_sample=True\n",
        ")\n",
        "\n",
        "for i, output in enumerate(outputs):\n",
        "    print(f\"\\n=== Generated {i+1} ===\\n\")\n",
        "    print(tokenizer.decode(output, skip_special_tokens=True))"
      ],
      "metadata": {
        "colab": {
          "base_uri": "https://localhost:8080/"
        },
        "id": "sSUG4S9oRID3",
        "outputId": "5732245d-68fa-41bf-abb0-ebf5d59138ae"
      },
      "execution_count": 25,
      "outputs": [
        {
          "output_type": "stream",
          "name": "stderr",
          "text": [
            "Setting `pad_token_id` to `eos_token_id`:50256 for open-end generation.\n"
          ]
        },
        {
          "output_type": "stream",
          "name": "stdout",
          "text": [
            "\n",
            "=== Generated 1 ===\n",
            "\n",
            "the movie was great with the acting, it did not seem like it was about as good as the rest of the films that it was. The only thing I was impressed by was the script. I knew everything about this movie, and I thought it was one of the best movies ever made. I also liked that there was something in this movie that I had not seen in quite a long time...\n",
            "\n",
            "=== Generated 2 ===\n",
            "\n",
            "the movie was great with very much love for the original. I was only able to find a couple of spots for the original film when we all had a great time. I would recommend this movie to everyone interested in seeing this film.\n",
            "\n",
            "=== Generated 3 ===\n",
            "\n",
            "the movie was great with no plot. The plot is quite convoluted and not even the script could have done a better job of giving the movie a story.\n"
          ]
        }
      ]
    },
    {
      "cell_type": "code",
      "source": [
        "import nbformat\n",
        "\n",
        "in_file = \"GPT_1.ipynb\"\n",
        "out_file = \"GPT_1_clean.ipynb\"\n",
        "\n",
        "with open(in_file, \"r\", encoding=\"utf-8\") as f:\n",
        "    nb = nbformat.read(f, as_version=4)\n",
        "\n",
        "if \"widgets\" in nb[\"metadata\"]:\n",
        "    del nb[\"metadata\"][\"widgets\"]\n",
        "\n",
        "for cell in nb[\"cells\"]:\n",
        "    if \"metadata\" in cell and \"widgets\" in cell[\"metadata\"]:\n",
        "        del cell[\"metadata\"][\"widgets\"]\n",
        "\n",
        "with open(out_file, \"w\", encoding=\"utf-8\") as f:\n",
        "    nbformat.write(nb, f)\n",
        "\n",
        "print(f\"✅ Cleaned and saved as: {out_file}\")"
      ],
      "metadata": {
        "colab": {
          "base_uri": "https://localhost:8080/"
        },
        "id": "qRgp3slvd2kt",
        "outputId": "6109465b-a30d-4e12-fa66-d017ed07745e"
      },
      "execution_count": 17,
      "outputs": [
        {
          "output_type": "stream",
          "name": "stdout",
          "text": [
            "✅ Cleaned and saved as: GPT_1_clean.ipynb\n"
          ]
        }
      ]
    },
    {
      "cell_type": "code",
      "source": [],
      "metadata": {
        "id": "AHKFN7Vrd3PX"
      },
      "execution_count": null,
      "outputs": []
    }
  ]
}