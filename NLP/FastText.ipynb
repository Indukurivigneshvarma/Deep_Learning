{
 "cells": [
  {
   "cell_type": "code",
   "execution_count": 1,
   "id": "caa5a47e",
   "metadata": {},
   "outputs": [],
   "source": [
    "import nltk\n",
    "from nltk.corpus import movie_reviews\n",
    "from gensim.models import FastText\n",
    "from sklearn.model_selection import train_test_split\n",
    "from sklearn.linear_model import LogisticRegression\n",
    "from sklearn.metrics import accuracy_score, classification_report\n",
    "import numpy as np\n",
    "import warnings\n",
    "warnings.filterwarnings(\"ignore\")"
   ]
  },
  {
   "cell_type": "code",
   "execution_count": 2,
   "id": "f69f7e76",
   "metadata": {},
   "outputs": [
    {
     "name": "stderr",
     "output_type": "stream",
     "text": [
      "[nltk_data] Downloading package movie_reviews to\n",
      "[nltk_data]     C:\\Users\\Bluepal\\AppData\\Roaming\\nltk_data...\n",
      "[nltk_data]   Package movie_reviews is already up-to-date!\n"
     ]
    }
   ],
   "source": [
    "nltk.download('movie_reviews')\n",
    "documents = [(list(movie_reviews.words(fileid)), category)\n",
    "             for category in movie_reviews.categories()\n",
    "             for fileid in movie_reviews.fileids(category)]\n",
    "\n",
    "texts = [\" \".join(words) for words, label in documents]\n",
    "labels = [1 if label == 'pos' else 0 for words, label in documents]\n",
    "\n",
    "# Tokenize\n",
    "tokenized_texts = [text.lower().split() for text in texts]"
   ]
  },
  {
   "cell_type": "code",
   "execution_count": 3,
   "id": "1f59f2ed",
   "metadata": {},
   "outputs": [],
   "source": [
    "ft_model = FastText(\n",
    "    sentences=tokenized_texts,\n",
    "    vector_size=100,  \n",
    "    window=5,          \n",
    "    min_count=2,      \n",
    "    sg=1,              \n",
    "    epochs=10\n",
    ")"
   ]
  },
  {
   "cell_type": "code",
   "execution_count": 4,
   "id": "9358328e",
   "metadata": {},
   "outputs": [],
   "source": [
    "def get_sentence_vector(tokens, model):\n",
    "    vectors = [model.wv[word] for word in tokens if word in model.wv]\n",
    "    if len(vectors) == 0:\n",
    "        return np.zeros(model.vector_size)\n",
    "    return np.mean(vectors, axis=0)\n",
    "\n",
    "X = np.array([get_sentence_vector(tokens, ft_model) for tokens in tokenized_texts])\n",
    "y = np.array(labels)"
   ]
  },
  {
   "cell_type": "code",
   "execution_count": 5,
   "id": "87d9a1a9",
   "metadata": {},
   "outputs": [
    {
     "name": "stdout",
     "output_type": "stream",
     "text": [
      "✅ Accuracy: 0.7125\n",
      "\n",
      "Classification Report:\n",
      "               precision    recall  f1-score   support\n",
      "\n",
      "           0       0.70      0.73      0.72       199\n",
      "           1       0.72      0.69      0.71       201\n",
      "\n",
      "    accuracy                           0.71       400\n",
      "   macro avg       0.71      0.71      0.71       400\n",
      "weighted avg       0.71      0.71      0.71       400\n",
      "\n"
     ]
    }
   ],
   "source": [
    "X_train, X_test, y_train, y_test = train_test_split(\n",
    "    X, y, test_size=0.2, random_state=42\n",
    ")\n",
    "\n",
    "clf = LogisticRegression(max_iter=1000)\n",
    "clf.fit(X_train, y_train)\n",
    "\n",
    "y_pred = clf.predict(X_test)\n",
    "print(\"✅ Accuracy:\", accuracy_score(y_test, y_pred))\n",
    "print(\"\\nClassification Report:\\n\", classification_report(y_test, y_pred))"
   ]
  },
  {
   "cell_type": "code",
   "execution_count": 6,
   "id": "8e5a8a73",
   "metadata": {},
   "outputs": [
    {
     "name": "stdout",
     "output_type": "stream",
     "text": [
      "Text: I loved the movie! It was brilliant and emotional.\n",
      "Predicted Sentiment: Positive 😀\n",
      "\n",
      "Text: This was the worst film ever made.\n",
      "Predicted Sentiment: Negative 😞\n",
      "\n",
      "Text: It was okay, not too bad.\n",
      "Predicted Sentiment: Negative 😞\n",
      "\n"
     ]
    }
   ],
   "source": [
    "def predict_sentiment(text):\n",
    "    tokens = text.lower().split()\n",
    "    vec = get_sentence_vector(tokens, ft_model).reshape(1, -1)\n",
    "    pred = clf.predict(vec)[0]\n",
    "    sentiment = \"Positive 😀\" if pred == 1 else \"Negative 😞\"\n",
    "    print(f\"Text: {text}\\nPredicted Sentiment: {sentiment}\\n\")\n",
    "\n",
    "predict_sentiment(\"I loved the movie! It was brilliant and emotional.\")\n",
    "predict_sentiment(\"This was the worst film ever made.\")\n",
    "predict_sentiment(\"It was okay, not too bad.\")"
   ]
  },
  {
   "cell_type": "code",
   "execution_count": null,
   "id": "50924ea6",
   "metadata": {},
   "outputs": [],
   "source": []
  }
 ],
 "metadata": {
  "kernelspec": {
   "display_name": "nlp_course",
   "language": "python",
   "name": "python3"
  },
  "language_info": {
   "codemirror_mode": {
    "name": "ipython",
    "version": 3
   },
   "file_extension": ".py",
   "mimetype": "text/x-python",
   "name": "python",
   "nbconvert_exporter": "python",
   "pygments_lexer": "ipython3",
   "version": "3.10.18"
  }
 },
 "nbformat": 4,
 "nbformat_minor": 5
}
