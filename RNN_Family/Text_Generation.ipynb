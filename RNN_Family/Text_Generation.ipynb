{
 "cells": [
  {
   "cell_type": "code",
   "execution_count": 36,
   "id": "e0ec0a1a",
   "metadata": {},
   "outputs": [
    {
     "name": "stdout",
     "output_type": "stream",
     "text": [
      "Length of text: 1115394 characters\n"
     ]
    }
   ],
   "source": [
    "import tensorflow as tf\n",
    "import numpy as np\n",
    "import os\n",
    "import glob\n",
    "\n",
    "path_to_file = tf.keras.utils.get_file(\n",
    "    'shakespeare.txt',\n",
    "    'https://storage.googleapis.com/download.tensorflow.org/data/shakespeare.txt'\n",
    ")\n",
    "text = open(path_to_file, 'r').read()\n",
    "print(f\"Length of text: {len(text)} characters\")\n"
   ]
  },
  {
   "cell_type": "code",
   "execution_count": 37,
   "id": "f19f9b7d",
   "metadata": {},
   "outputs": [
    {
     "name": "stdout",
     "output_type": "stream",
     "text": [
      "Unique characters: 65\n"
     ]
    }
   ],
   "source": [
    "vocab = sorted(set(text))\n",
    "vocab_size = len(vocab)\n",
    "print(f\"Unique characters: {vocab_size}\")\n",
    "\n",
    "char2idx = {u:i for i,u in enumerate(vocab)}\n",
    "idx2char = np.array(vocab)\n",
    "text_as_int = np.array([char2idx[c] for c in text])\n",
    "\n",
    "seq_length = 50 \n",
    "examples_per_epoch = len(text)//seq_length\n",
    "\n",
    "char_dataset = tf.data.Dataset.from_tensor_slices(text_as_int)\n",
    "sequences = char_dataset.batch(seq_length+1, drop_remainder=True)\n",
    "\n",
    "def split_input_target(chunk):\n",
    "    input_text = chunk[:-1]\n",
    "    target_text = chunk[1:]\n",
    "    return input_text, target_text\n",
    "\n",
    "dataset = sequences.map(split_input_target)\n",
    "\n",
    "BATCH_SIZE = 32\n",
    "BUFFER_SIZE = 10000\n",
    "dataset = dataset.shuffle(BUFFER_SIZE).batch(BATCH_SIZE, drop_remainder=True)"
   ]
  },
  {
   "cell_type": "code",
   "execution_count": 46,
   "id": "895da0dc",
   "metadata": {},
   "outputs": [],
   "source": [
    "embedding_dim = 128\n",
    "rnn_units = 256\n",
    "EPOCHS = 5 \n",
    "\n",
    "def build_model(vocab_size, embedding_dim, rnn_units, batch_size, model_type='gru', stateful=False):\n",
    "    RNNLayer = {\n",
    "        'rnn': tf.keras.layers.SimpleRNN,\n",
    "        'lstm': tf.keras.layers.LSTM,\n",
    "        'gru': tf.keras.layers.GRU\n",
    "    }[model_type]\n",
    "    \n",
    "    model = tf.keras.Sequential([\n",
    "        tf.keras.layers.Embedding(input_dim=vocab_size, output_dim=embedding_dim),\n",
    "        RNNLayer(units=rnn_units, return_sequences=True, stateful=stateful,\n",
    "                 recurrent_initializer='glorot_uniform'),\n",
    "        tf.keras.layers.Dense(vocab_size)\n",
    "    ])\n",
    "    return model\n",
    "\n",
    "model = build_model(vocab_size, embedding_dim, rnn_units, BATCH_SIZE, model_type='gru', stateful=False)"
   ]
  },
  {
   "cell_type": "code",
   "execution_count": 39,
   "id": "c1bad1bd",
   "metadata": {},
   "outputs": [],
   "source": [
    "def loss(labels, logits):\n",
    "    return tf.keras.losses.sparse_categorical_crossentropy(labels, logits, from_logits=True)\n",
    "\n",
    "model.compile(optimizer='adam', loss=loss)"
   ]
  },
  {
   "cell_type": "code",
   "execution_count": 40,
   "id": "87a4e634",
   "metadata": {},
   "outputs": [
    {
     "name": "stdout",
     "output_type": "stream",
     "text": [
      "Epoch 1/5\n",
      "\u001b[1m683/683\u001b[0m \u001b[32m━━━━━━━━━━━━━━━━━━━━\u001b[0m\u001b[37m\u001b[0m \u001b[1m64s\u001b[0m 88ms/step - loss: 2.1827\n",
      "Epoch 2/5\n",
      "\u001b[1m683/683\u001b[0m \u001b[32m━━━━━━━━━━━━━━━━━━━━\u001b[0m\u001b[37m\u001b[0m \u001b[1m61s\u001b[0m 88ms/step - loss: 1.7092\n",
      "Epoch 3/5\n",
      "\u001b[1m683/683\u001b[0m \u001b[32m━━━━━━━━━━━━━━━━━━━━\u001b[0m\u001b[37m\u001b[0m \u001b[1m61s\u001b[0m 88ms/step - loss: 1.5727\n",
      "Epoch 4/5\n",
      "\u001b[1m683/683\u001b[0m \u001b[32m━━━━━━━━━━━━━━━━━━━━\u001b[0m\u001b[37m\u001b[0m \u001b[1m61s\u001b[0m 89ms/step - loss: 1.5047\n",
      "Epoch 5/5\n",
      "\u001b[1m683/683\u001b[0m \u001b[32m━━━━━━━━━━━━━━━━━━━━\u001b[0m\u001b[37m\u001b[0m \u001b[1m65s\u001b[0m 93ms/step - loss: 1.4620\n"
     ]
    }
   ],
   "source": [
    "checkpoint_dir = './training_checkpoints'\n",
    "os.makedirs(checkpoint_dir, exist_ok=True)\n",
    "checkpoint_prefix = os.path.join(checkpoint_dir, \"ckpt_epoch_{epoch:02d}.weights.h5\")\n",
    "\n",
    "checkpoint_callback = tf.keras.callbacks.ModelCheckpoint(\n",
    "    filepath=checkpoint_prefix,\n",
    "    save_weights_only=True,\n",
    "    save_freq='epoch'\n",
    ")\n",
    "\n",
    "history = model.fit(dataset, epochs=EPOCHS, callbacks=[checkpoint_callback])"
   ]
  },
  {
   "cell_type": "code",
   "execution_count": 42,
   "id": "2efc903a",
   "metadata": {},
   "outputs": [],
   "source": [
    "def build_stateful_model(vocab_size, embedding_dim, rnn_units, batch_size=1, model_type='gru'):\n",
    "    RNNLayer = {\n",
    "        'rnn': tf.keras.layers.SimpleRNN,\n",
    "        'lstm': tf.keras.layers.LSTM,\n",
    "        'gru': tf.keras.layers.GRU\n",
    "    }[model_type]\n",
    "    \n",
    "    model = tf.keras.Sequential([\n",
    "        tf.keras.layers.Embedding(input_dim=vocab_size, output_dim=embedding_dim),\n",
    "        RNNLayer(units=rnn_units, return_sequences=True, stateful=True,\n",
    "                 recurrent_initializer='glorot_uniform'),\n",
    "        tf.keras.layers.Dense(vocab_size)\n",
    "    ])\n",
    "    return model\n",
    "\n",
    "gen_model = build_stateful_model(vocab_size, embedding_dim, rnn_units, batch_size=1, model_type='gru')"
   ]
  },
  {
   "cell_type": "code",
   "execution_count": 47,
   "id": "c1249bdf",
   "metadata": {},
   "outputs": [
    {
     "name": "stdout",
     "output_type": "stream",
     "text": [
      "Loading weights from: ./training_checkpoints\\ckpt_epoch_05.weights.h5\n"
     ]
    }
   ],
   "source": [
    "gen_model.build(tf.TensorShape([1, None]))\n",
    "\n",
    "weights_files = glob.glob(os.path.join(checkpoint_dir, \"*.weights.h5\"))\n",
    "weights_files.sort()\n",
    "latest_checkpoint = weights_files[-1]\n",
    "\n",
    "print(\"Loading weights from:\", latest_checkpoint)\n",
    "gen_model.load_weights(latest_checkpoint)"
   ]
  },
  {
   "cell_type": "code",
   "execution_count": 44,
   "id": "47d3200a",
   "metadata": {},
   "outputs": [],
   "source": [
    "def generate_text(model, start_string, char2idx, idx2char, generation_length=500, temperature=1.0):\n",
    "    input_eval = [char2idx[s] for s in start_string]\n",
    "    input_eval = tf.expand_dims(input_eval, 0)\n",
    "    \n",
    "    text_generated = []\n",
    "\n",
    "    for layer in model.layers:\n",
    "        if hasattr(layer, \"reset_states\"):\n",
    "            layer.reset_states()\n",
    "    \n",
    "    for _ in range(generation_length):\n",
    "        predictions = model(input_eval)\n",
    "        predictions = predictions[:, -1, :]\n",
    "        predictions = predictions / temperature\n",
    "        predicted_id = tf.random.categorical(predictions, num_samples=1)[-1,0].numpy()\n",
    "        \n",
    "        text_generated.append(idx2char[predicted_id])\n",
    "        input_eval = tf.expand_dims([predicted_id], 0)\n",
    "    \n",
    "    return start_string + ''.join(text_generated)"
   ]
  },
  {
   "cell_type": "code",
   "execution_count": 45,
   "id": "47719778",
   "metadata": {},
   "outputs": [
    {
     "name": "stdout",
     "output_type": "stream",
     "text": [
      "To be, or not to be, let him in the prosperence of the and\n",
      "Off my lord, if we are the stance for a mistress,\n",
      "But that he made a strong is the sunses of him, which is them better\n",
      "To be thee so farshed my his business, the our love,\n",
      "That word screptestant masters, touchey my honours execial rage,\n",
      "Which the held and once lauds of him the sond.\n",
      "\n",
      "BIONDELO:\n",
      "Masher as you so him open to thing.\n",
      "\n",
      "First Servant:\n",
      "For thy mad, ere had they and this confess both the honour.\n",
      "\n",
      "DUKE OF YORK:\n",
      "What is madam; and in part to be knowing\n"
     ]
    }
   ],
   "source": [
    "start_string = \"To be, or not to be, \"\n",
    "generated_text = generate_text(gen_model, start_string, char2idx, idx2char,\n",
    "                               generation_length=500, temperature=0.8)\n",
    "\n",
    "print(generated_text)"
   ]
  },
  {
   "cell_type": "code",
   "execution_count": null,
   "id": "e3812c86",
   "metadata": {},
   "outputs": [],
   "source": []
  }
 ],
 "metadata": {
  "kernelspec": {
   "display_name": "python_course",
   "language": "python",
   "name": "python3"
  },
  "language_info": {
   "codemirror_mode": {
    "name": "ipython",
    "version": 3
   },
   "file_extension": ".py",
   "mimetype": "text/x-python",
   "name": "python",
   "nbconvert_exporter": "python",
   "pygments_lexer": "ipython3",
   "version": "3.13.7"
  }
 },
 "nbformat": 4,
 "nbformat_minor": 5
}
